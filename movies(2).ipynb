{
 "cells": [
  {
   "cell_type": "code",
   "execution_count": 1,
   "id": "d2c21a5b",
   "metadata": {},
   "outputs": [],
   "source": [
    "import pandas as pd"
   ]
  },
  {
   "cell_type": "code",
   "execution_count": 2,
   "id": "4aa4161f",
   "metadata": {},
   "outputs": [],
   "source": [
    "data=pd.read_csv(\"/home/placement/Downloads/movies.csv\")"
   ]
  },
  {
   "cell_type": "code",
   "execution_count": 4,
   "id": "427b5377",
   "metadata": {},
   "outputs": [
    {
     "data": {
      "text/html": [
       "<div>\n",
       "<style scoped>\n",
       "    .dataframe tbody tr th:only-of-type {\n",
       "        vertical-align: middle;\n",
       "    }\n",
       "\n",
       "    .dataframe tbody tr th {\n",
       "        vertical-align: top;\n",
       "    }\n",
       "\n",
       "    .dataframe thead th {\n",
       "        text-align: right;\n",
       "    }\n",
       "</style>\n",
       "<table border=\"1\" class=\"dataframe\">\n",
       "  <thead>\n",
       "    <tr style=\"text-align: right;\">\n",
       "      <th></th>\n",
       "      <th>srno</th>\n",
       "      <th>year</th>\n",
       "      <th>rating</th>\n",
       "      <th>time</th>\n",
       "    </tr>\n",
       "  </thead>\n",
       "  <tbody>\n",
       "    <tr>\n",
       "      <th>count</th>\n",
       "      <td>49590.000000</td>\n",
       "      <td>49590.000000</td>\n",
       "      <td>10814.000000</td>\n",
       "      <td>45836.000000</td>\n",
       "    </tr>\n",
       "    <tr>\n",
       "      <th>mean</th>\n",
       "      <td>24795.500000</td>\n",
       "      <td>2002.303428</td>\n",
       "      <td>3.451248</td>\n",
       "      <td>2628.445436</td>\n",
       "    </tr>\n",
       "    <tr>\n",
       "      <th>std</th>\n",
       "      <td>14315.544261</td>\n",
       "      <td>12.534555</td>\n",
       "      <td>0.495601</td>\n",
       "      <td>1604.646265</td>\n",
       "    </tr>\n",
       "    <tr>\n",
       "      <th>min</th>\n",
       "      <td>1.000000</td>\n",
       "      <td>1913.000000</td>\n",
       "      <td>1.400000</td>\n",
       "      <td>52.000000</td>\n",
       "    </tr>\n",
       "    <tr>\n",
       "      <th>25%</th>\n",
       "      <td>12398.250000</td>\n",
       "      <td>1999.000000</td>\n",
       "      <td>3.100000</td>\n",
       "      <td>1356.000000</td>\n",
       "    </tr>\n",
       "    <tr>\n",
       "      <th>50%</th>\n",
       "      <td>24795.500000</td>\n",
       "      <td>2007.000000</td>\n",
       "      <td>3.500000</td>\n",
       "      <td>2563.000000</td>\n",
       "    </tr>\n",
       "    <tr>\n",
       "      <th>75%</th>\n",
       "      <td>37192.750000</td>\n",
       "      <td>2010.000000</td>\n",
       "      <td>3.800000</td>\n",
       "      <td>2877.000000</td>\n",
       "    </tr>\n",
       "    <tr>\n",
       "      <th>max</th>\n",
       "      <td>49590.000000</td>\n",
       "      <td>2014.000000</td>\n",
       "      <td>4.500000</td>\n",
       "      <td>28813.000000</td>\n",
       "    </tr>\n",
       "  </tbody>\n",
       "</table>\n",
       "</div>"
      ],
      "text/plain": [
       "               srno          year        rating          time\n",
       "count  49590.000000  49590.000000  10814.000000  45836.000000\n",
       "mean   24795.500000   2002.303428      3.451248   2628.445436\n",
       "std    14315.544261     12.534555      0.495601   1604.646265\n",
       "min        1.000000   1913.000000      1.400000     52.000000\n",
       "25%    12398.250000   1999.000000      3.100000   1356.000000\n",
       "50%    24795.500000   2007.000000      3.500000   2563.000000\n",
       "75%    37192.750000   2010.000000      3.800000   2877.000000\n",
       "max    49590.000000   2014.000000      4.500000  28813.000000"
      ]
     },
     "execution_count": 4,
     "metadata": {},
     "output_type": "execute_result"
    }
   ],
   "source": [
    "data.describe()"
   ]
  },
  {
   "cell_type": "code",
   "execution_count": 5,
   "id": "765962e0",
   "metadata": {},
   "outputs": [
    {
     "data": {
      "text/plain": [
       "srno          0\n",
       "movie         0\n",
       "year          0\n",
       "rating    38776\n",
       "time       3754\n",
       "dtype: int64"
      ]
     },
     "execution_count": 5,
     "metadata": {},
     "output_type": "execute_result"
    }
   ],
   "source": [
    "data.isna().sum()"
   ]
  },
  {
   "cell_type": "code",
   "execution_count": 8,
   "id": "150b3120",
   "metadata": {},
   "outputs": [
    {
     "name": "stderr",
     "output_type": "stream",
     "text": [
      "/tmp/ipykernel_14929/3060338577.py:1: FutureWarning: The default value of numeric_only in DataFrame.median is deprecated. In a future version, it will default to False. In addition, specifying 'numeric_only=None' is deprecated. Select only valid columns or specify the value of numeric_only to silence this warning.\n",
      "  data1=data.fillna(data.median())\n"
     ]
    }
   ],
   "source": [
    "data1=data.fillna(data.median())"
   ]
  },
  {
   "cell_type": "code",
   "execution_count": 6,
   "id": "0812c7f5",
   "metadata": {},
   "outputs": [
    {
     "data": {
      "text/plain": [
       "(49590, 5)"
      ]
     },
     "execution_count": 6,
     "metadata": {},
     "output_type": "execute_result"
    }
   ],
   "source": [
    "data.shape"
   ]
  },
  {
   "cell_type": "code",
   "execution_count": 7,
   "id": "05e9d885",
   "metadata": {},
   "outputs": [
    {
     "data": {
      "text/plain": [
       "<bound method DataFrame.info of         srno                                              movie  year  rating  \\\n",
       "0          1                               The Nightmare Before  1993     3.9   \n",
       "1          2                                          The Mummy  1932     3.5   \n",
       "2          3                               Orphans of the Storm  1921     3.2   \n",
       "3          4                               The Object of Beauty  1991     2.8   \n",
       "4          5                                         Night Tide  1963     2.8   \n",
       "...      ...                                                ...   ...     ...   \n",
       "49585  49586                                  Winter Wonderland  2013     2.8   \n",
       "49586  49587                Top Gear: Series 19: Africa Special  2013     NaN   \n",
       "49587  49588  Fireplace For Your Home: Crackling Fireplace w...  2010     NaN   \n",
       "49588  49589                                    Kate Plus Ei8ht  2010     2.7   \n",
       "49589  49590                          Kate Plus Ei8ht: Season 1  2010     2.7   \n",
       "\n",
       "         time  \n",
       "0      4568.0  \n",
       "1      4388.0  \n",
       "2      9062.0  \n",
       "3      6150.0  \n",
       "4      5126.0  \n",
       "...       ...  \n",
       "49585  1812.0  \n",
       "49586  6822.0  \n",
       "49587  3610.0  \n",
       "49588     NaN  \n",
       "49589     NaN  \n",
       "\n",
       "[49590 rows x 5 columns]>"
      ]
     },
     "execution_count": 7,
     "metadata": {},
     "output_type": "execute_result"
    }
   ],
   "source": [
    "data.info"
   ]
  },
  {
   "cell_type": "code",
   "execution_count": 13,
   "id": "59f52a93",
   "metadata": {},
   "outputs": [],
   "source": [
    "data2=data.groupby(['year']).count()"
   ]
  },
  {
   "cell_type": "code",
   "execution_count": 22,
   "id": "cd145c96",
   "metadata": {},
   "outputs": [
    {
     "data": {
      "text/html": [
       "<div>\n",
       "<style scoped>\n",
       "    .dataframe tbody tr th:only-of-type {\n",
       "        vertical-align: middle;\n",
       "    }\n",
       "\n",
       "    .dataframe tbody tr th {\n",
       "        vertical-align: top;\n",
       "    }\n",
       "\n",
       "    .dataframe thead th {\n",
       "        text-align: right;\n",
       "    }\n",
       "</style>\n",
       "<table border=\"1\" class=\"dataframe\">\n",
       "  <thead>\n",
       "    <tr style=\"text-align: right;\">\n",
       "      <th></th>\n",
       "      <th>srno</th>\n",
       "      <th>movie</th>\n",
       "      <th>rating</th>\n",
       "      <th>time</th>\n",
       "    </tr>\n",
       "    <tr>\n",
       "      <th>year</th>\n",
       "      <th></th>\n",
       "      <th></th>\n",
       "      <th></th>\n",
       "      <th></th>\n",
       "    </tr>\n",
       "  </thead>\n",
       "  <tbody>\n",
       "    <tr>\n",
       "      <th>1913</th>\n",
       "      <td>3</td>\n",
       "      <td>3</td>\n",
       "      <td>3</td>\n",
       "      <td>3</td>\n",
       "    </tr>\n",
       "    <tr>\n",
       "      <th>1914</th>\n",
       "      <td>20</td>\n",
       "      <td>20</td>\n",
       "      <td>5</td>\n",
       "      <td>18</td>\n",
       "    </tr>\n",
       "    <tr>\n",
       "      <th>1915</th>\n",
       "      <td>1</td>\n",
       "      <td>1</td>\n",
       "      <td>1</td>\n",
       "      <td>1</td>\n",
       "    </tr>\n",
       "    <tr>\n",
       "      <th>1916</th>\n",
       "      <td>1</td>\n",
       "      <td>1</td>\n",
       "      <td>1</td>\n",
       "      <td>1</td>\n",
       "    </tr>\n",
       "    <tr>\n",
       "      <th>1918</th>\n",
       "      <td>1</td>\n",
       "      <td>1</td>\n",
       "      <td>1</td>\n",
       "      <td>1</td>\n",
       "    </tr>\n",
       "    <tr>\n",
       "      <th>...</th>\n",
       "      <td>...</td>\n",
       "      <td>...</td>\n",
       "      <td>...</td>\n",
       "      <td>...</td>\n",
       "    </tr>\n",
       "    <tr>\n",
       "      <th>2010</th>\n",
       "      <td>5107</td>\n",
       "      <td>5107</td>\n",
       "      <td>1102</td>\n",
       "      <td>4671</td>\n",
       "    </tr>\n",
       "    <tr>\n",
       "      <th>2011</th>\n",
       "      <td>5511</td>\n",
       "      <td>5511</td>\n",
       "      <td>1346</td>\n",
       "      <td>4992</td>\n",
       "    </tr>\n",
       "    <tr>\n",
       "      <th>2012</th>\n",
       "      <td>4339</td>\n",
       "      <td>4339</td>\n",
       "      <td>1130</td>\n",
       "      <td>3978</td>\n",
       "    </tr>\n",
       "    <tr>\n",
       "      <th>2013</th>\n",
       "      <td>981</td>\n",
       "      <td>981</td>\n",
       "      <td>345</td>\n",
       "      <td>901</td>\n",
       "    </tr>\n",
       "    <tr>\n",
       "      <th>2014</th>\n",
       "      <td>1</td>\n",
       "      <td>1</td>\n",
       "      <td>1</td>\n",
       "      <td>1</td>\n",
       "    </tr>\n",
       "  </tbody>\n",
       "</table>\n",
       "<p>101 rows × 4 columns</p>\n",
       "</div>"
      ],
      "text/plain": [
       "      srno  movie  rating  time\n",
       "year                           \n",
       "1913     3      3       3     3\n",
       "1914    20     20       5    18\n",
       "1915     1      1       1     1\n",
       "1916     1      1       1     1\n",
       "1918     1      1       1     1\n",
       "...    ...    ...     ...   ...\n",
       "2010  5107   5107    1102  4671\n",
       "2011  5511   5511    1346  4992\n",
       "2012  4339   4339    1130  3978\n",
       "2013   981    981     345   901\n",
       "2014     1      1       1     1\n",
       "\n",
       "[101 rows x 4 columns]"
      ]
     },
     "execution_count": 22,
     "metadata": {},
     "output_type": "execute_result"
    }
   ],
   "source": [
    "data2"
   ]
  },
  {
   "cell_type": "code",
   "execution_count": 16,
   "id": "60063183",
   "metadata": {},
   "outputs": [
    {
     "data": {
      "text/html": [
       "<div>\n",
       "<style scoped>\n",
       "    .dataframe tbody tr th:only-of-type {\n",
       "        vertical-align: middle;\n",
       "    }\n",
       "\n",
       "    .dataframe tbody tr th {\n",
       "        vertical-align: top;\n",
       "    }\n",
       "\n",
       "    .dataframe thead th {\n",
       "        text-align: right;\n",
       "    }\n",
       "</style>\n",
       "<table border=\"1\" class=\"dataframe\">\n",
       "  <thead>\n",
       "    <tr style=\"text-align: right;\">\n",
       "      <th></th>\n",
       "      <th>srno</th>\n",
       "      <th>movie</th>\n",
       "      <th>year</th>\n",
       "      <th>rating</th>\n",
       "      <th>time</th>\n",
       "    </tr>\n",
       "  </thead>\n",
       "  <tbody>\n",
       "    <tr>\n",
       "      <th>0</th>\n",
       "      <td>1</td>\n",
       "      <td>The Nightmare Before</td>\n",
       "      <td>1993</td>\n",
       "      <td>3.9</td>\n",
       "      <td>4568.0</td>\n",
       "    </tr>\n",
       "    <tr>\n",
       "      <th>1</th>\n",
       "      <td>2</td>\n",
       "      <td>The Mummy</td>\n",
       "      <td>1932</td>\n",
       "      <td>3.5</td>\n",
       "      <td>4388.0</td>\n",
       "    </tr>\n",
       "    <tr>\n",
       "      <th>2</th>\n",
       "      <td>3</td>\n",
       "      <td>Orphans of the Storm</td>\n",
       "      <td>1921</td>\n",
       "      <td>3.2</td>\n",
       "      <td>9062.0</td>\n",
       "    </tr>\n",
       "    <tr>\n",
       "      <th>3</th>\n",
       "      <td>4</td>\n",
       "      <td>The Object of Beauty</td>\n",
       "      <td>1991</td>\n",
       "      <td>2.8</td>\n",
       "      <td>6150.0</td>\n",
       "    </tr>\n",
       "    <tr>\n",
       "      <th>4</th>\n",
       "      <td>5</td>\n",
       "      <td>Night Tide</td>\n",
       "      <td>1963</td>\n",
       "      <td>2.8</td>\n",
       "      <td>5126.0</td>\n",
       "    </tr>\n",
       "  </tbody>\n",
       "</table>\n",
       "</div>"
      ],
      "text/plain": [
       "   srno                 movie  year  rating    time\n",
       "0     1  The Nightmare Before  1993     3.9  4568.0\n",
       "1     2             The Mummy  1932     3.5  4388.0\n",
       "2     3  Orphans of the Storm  1921     3.2  9062.0\n",
       "3     4  The Object of Beauty  1991     2.8  6150.0\n",
       "4     5            Night Tide  1963     2.8  5126.0"
      ]
     },
     "execution_count": 16,
     "metadata": {},
     "output_type": "execute_result"
    }
   ],
   "source": [
    "data.head()"
   ]
  },
  {
   "cell_type": "code",
   "execution_count": 20,
   "id": "eb83da5a",
   "metadata": {},
   "outputs": [],
   "source": [
    "data2.to_csv('data2.csv')"
   ]
  },
  {
   "cell_type": "code",
   "execution_count": 23,
   "id": "6cde456c",
   "metadata": {},
   "outputs": [
    {
     "data": {
      "text/plain": [
       "<Axes: >"
      ]
     },
     "execution_count": 23,
     "metadata": {},
     "output_type": "execute_result"
    },
    {
     "data": {
      "image/png": "[encoded data removed]",
      "text/plain": [
       "<Figure size 640x480 with 1 Axes>"
      ]
     },
     "metadata": {},
     "output_type": "display_data"
    }
   ],
   "source": [
    "data.plot()\n"
   ]
  },
  {
   "cell_type": "code",
   "execution_count": null,
   "id": "1a63c3b1",
   "metadata": {},
   "outputs": [],
   "source": [
    "import warnings\n",
    "warnings.filtenamewarning(\"ignore\")\n",
    "import pandas as pd"
   ]
  }
 ],
 "metadata": {
  "kernelspec": {
   "display_name": "Python 3 (ipykernel)",
   "language": "python",
   "name": "python3"
  },
  "language_info": {
   "codemirror_mode": {
    "name": "ipython",
    "version": 3
   },
   "file_extension": ".py",
   "mimetype": "text/x-python",
   "name": "python",
   "nbconvert_exporter": "python",
   "pygments_lexer": "ipython3",
   "version": "3.10.9"
  }
 },
 "nbformat": 4,
 "nbformat_minor": 5
}
